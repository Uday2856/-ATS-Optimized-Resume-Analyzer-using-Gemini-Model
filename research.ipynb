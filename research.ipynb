import PyPDF2 as pdf
file = pdf.PdfReader("PRAJWAL K.pdf")
number_of_pages = len(file.pages)
number_of_pages
